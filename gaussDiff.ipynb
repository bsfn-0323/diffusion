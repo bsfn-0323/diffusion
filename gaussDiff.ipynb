{
 "cells": [
  {
   "cell_type": "code",
   "execution_count": 1,
   "metadata": {},
   "outputs": [],
   "source": [
    "import numpy as np\n",
    "import matplotlib.pyplot as plt\n",
    "import torch"
   ]
  },
  {
   "cell_type": "code",
   "execution_count": 2,
   "metadata": {},
   "outputs": [],
   "source": [
    "def load_data(L,temp,MCS):\n",
    "    return np.fromfile(f\"../ising_wolff/dataIsing2D_L{L}/config_L{L}_T{temp:.3f}.bin\",dtype = np.int32).reshape(MCS,L**2)"
   ]
  },
  {
   "cell_type": "code",
   "execution_count": 3,
   "metadata": {},
   "outputs": [],
   "source": [
    "def gaussScore(x0,temp,nSteps,dt,device = \"cpu\"):\n",
    "    x0 = torch.from_numpy(x0).to(torch.float32).to(device)\n",
    "    N = x0.shape[1]\n",
    "    W = torch.Tensor(nSteps+1,N,N)\n",
    "    #b = torch.Tensor(nSteps+1,N)\n",
    "    cov = torch.cov(x0.T)\n",
    "    m0 = torch.mean(x0,dim=1)\n",
    "    for i in range(nSteps+1):\n",
    "        exp_t = torch.exp(torch.Tensor([-2*i*dt]))\n",
    "        exp_tsq = exp_t*exp_t\n",
    "        W[i] = torch.linalg.inv(temp*(1-exp_tsq)*torch.eye(N) + exp_tsq*cov)\n",
    "        #b[i] = -exp_t* torch.mm(W[i],m0)\n",
    "    return W\n"
   ]
  },
  {
   "cell_type": "code",
   "execution_count": 118,
   "metadata": {},
   "outputs": [],
   "source": [
    "L = 10\n",
    "N = L**2\n",
    "P = 10000\n",
    "temp = 20\n",
    "x0 = load_data(10,2.2,200000)\n",
    "W = gaussScore(x0[:P],temp,300,0.02)"
   ]
  },
  {
   "cell_type": "code",
   "execution_count": 119,
   "metadata": {},
   "outputs": [],
   "source": [
    "def backward(xT,W,temp,nSteps,dt,full_traj = False,device = \"cpu\"):\n",
    "    P = xT.shape[0]\n",
    "    N = xT.shape[1]\n",
    "    nbatches = 50\n",
    "    batch_size = int(P/nbatches)\n",
    "    if(full_traj):\n",
    "        x_recon = torch.Tensor(P,nSteps+1,N)\n",
    "        x_recon[:,-1,:] = xT\n",
    "    else:\n",
    "        x_recon = xT\n",
    "    for tt in range(nSteps+1)[::-1]:\n",
    "        std = np.sqrt(2*temp*dt)*torch.randn_like(xT)\n",
    "\n",
    "        for n in range(nbatches):\n",
    "            if(full_traj):\n",
    "                score = -torch.matmul(x_recon[n*batch_size:(n+1)*batch_size,tt,:],W[tt])\n",
    "                x_recon[n*batch_size:(n+1)*batch_size,tt-1,:] = x_recon[n*batch_size:(n+1)*batch_size,tt,:]*(1+dt) + 2*temp*score*dt + std[n*batch_size:(n+1)*batch_size]\n",
    "            else:\n",
    "                score = -torch.matmul(x_recon[n*batch_size:(n+1)*batch_size],W[tt])\n",
    "                x_recon[n*batch_size:(n+1)*batch_size] = x_recon[n*batch_size:(n+1)*batch_size]*(1+dt)+ 2*temp*score*dt + std[n*batch_size:(n+1)*batch_size]\n",
    "            del score\n",
    "    \n",
    "    return x_recon"
   ]
  },
  {
   "cell_type": "code",
   "execution_count": 120,
   "metadata": {},
   "outputs": [],
   "source": [
    "xT = np.sqrt(temp)*torch.randn((P,N))\n",
    "x_recon = backward(xT,W,temp,300,0.02).numpy()"
   ]
  },
  {
   "cell_type": "code",
   "execution_count": 121,
   "metadata": {},
   "outputs": [
    {
     "data": {
      "text/plain": [
       "(array([0.00000000e+00, 0.00000000e+00, 0.00000000e+00, 0.00000000e+00,\n",
       "        0.00000000e+00, 8.39999840e-04, 1.17600007e-02, 1.27680008e-01,\n",
       "        7.93800047e-01, 2.09915986e+00, 2.32343999e+00, 2.08067986e+00,\n",
       "        7.99680048e-01, 1.51200009e-01, 1.17600007e-02, 0.00000000e+00,\n",
       "        0.00000000e+00, 0.00000000e+00, 0.00000000e+00, 0.00000000e+00,\n",
       "        0.00000000e+00]),\n",
       " array([-1.25      , -1.1309524 , -1.0119047 , -0.89285713, -0.77380955,\n",
       "        -0.6547619 , -0.53571427, -0.41666666, -0.29761904, -0.17857143,\n",
       "        -0.05952381,  0.05952381,  0.17857143,  0.29761904,  0.41666666,\n",
       "         0.53571427,  0.6547619 ,  0.77380955,  0.89285713,  1.0119047 ,\n",
       "         1.1309524 ,  1.25      ], dtype=float32),\n",
       " <BarContainer object of 21 artists>)"
      ]
     },
     "execution_count": 121,
     "metadata": {},
     "output_type": "execute_result"
    },
    {
     "data": {
      "image/png": "[encoded data removed]",
      "text/plain": [
       "<Figure size 432x288 with 1 Axes>"
      ]
     },
     "metadata": {
      "needs_background": "light"
     },
     "output_type": "display_data"
    }
   ],
   "source": [
    "plt.hist(np.mean(x0,axis = 1),bins = 21,range=(-1.25,1.25),alpha = 0.5,density=  True)\n",
    "plt.hist(np.mean(np.sign(x_recon),axis=1),bins = 21,range=(-1.25,1.25),alpha = 0.5,density=  True)"
   ]
  },
  {
   "cell_type": "code",
   "execution_count": 128,
   "metadata": {},
   "outputs": [],
   "source": [
    "def Dkl(x0,x_recon):\n",
    "    eps = 1e-05\n",
    "    c1,tmp = np.histogram(np.mean(x0,axis = 1),bins = 21,range=(-1.25,1.25),density = True)\n",
    "    c2,tmp = np.histogram(np.mean(x_recon,axis = 1),bins = 21,range=(-1.25,1.25),density = True)\n",
    "    return np.sum(c1*np.log((c1+eps)/(c2+eps)))"
   ]
  },
  {
   "cell_type": "code",
   "execution_count": 129,
   "metadata": {},
   "outputs": [
    {
     "data": {
      "text/plain": [
       "10.025316061826237"
      ]
     },
     "execution_count": 129,
     "metadata": {},
     "output_type": "execute_result"
    }
   ],
   "source": [
    "Dkl(x0,x_recon)"
   ]
  },
  {
   "cell_type": "code",
   "execution_count": null,
   "metadata": {},
   "outputs": [],
   "source": []
  }
 ],
 "metadata": {
  "kernelspec": {
   "display_name": "Python 3",
   "language": "python",
   "name": "python3"
  },
  "language_info": {
   "codemirror_mode": {
    "name": "ipython",
    "version": 3
   },
   "file_extension": ".py",
   "mimetype": "text/x-python",
   "name": "python",
   "nbconvert_exporter": "python",
   "pygments_lexer": "ipython3",
   "version": "3.1.0"
  }
 },
 "nbformat": 4,
 "nbformat_minor": 2
}
