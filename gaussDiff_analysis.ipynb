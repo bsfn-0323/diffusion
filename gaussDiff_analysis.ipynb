{
 "cells": [
  {
   "cell_type": "code",
   "execution_count": 1,
   "metadata": {},
   "outputs": [],
   "source": [
    "import numpy as np\n",
    "import matplotlib.pyplot as plt\n",
    "\n",
    "def load_data(N,difftemp,P,temp,nSteps,dt,last = True):\n",
    "    if last:\n",
    "        return np.load(f\"data_N{N}_T{difftemp:.3f}_P{P}/recon_temp{temp:.3f}_nSteps{nSteps}_dt{dt:.2f}.npy\")\n",
    "    else:\n",
    "        return np.load(f\"data_N{N}_T{difftemp:.3f}_P{P}/recon_temp{temp:.3f}_nSteps{nSteps}_dt{dt:.2f}.npy\")\n",
    "def load_original_data(L,temp,MCS):\n",
    "    return np.fromfile(f\"../ising_wolff/dataIsing2D_L{L}/config_L{L}_T{temp:.3f}.bin\",dtype = np.int32).reshape(MCS,L**2)"
   ]
  },
  {
   "cell_type": "code",
   "execution_count": null,
   "metadata": {},
   "outputs": [],
   "source": [
    "Tmin = 2.27\n",
    "Tmax = 3.22\n",
    "meas = 20\n",
    "Ts = np.linspace(Tmin,Tmax,meas)\n",
    "\n",
    "L = 10\n",
    "N = L**2\n",
    "P = 100000\n",
    "difftemp = 8\n",
    "nSteps = 300\n",
    "dt = 0.02\n",
    "Ts[10]"
   ]
  },
  {
   "cell_type": "code",
   "execution_count": 3,
   "metadata": {},
   "outputs": [
    {
     "data": {
      "text/plain": [
       "array([  1,   2,   4,   8,  17,  35,  72, 147, 300], dtype=int32)"
      ]
     },
     "execution_count": 3,
     "metadata": {},
     "output_type": "execute_result"
    }
   ],
   "source": [
    "\n",
    "slices = np.geomspace(1,nSteps,9, dtype = np.int32)   \n",
    "slices"
   ]
  },
  {
   "cell_type": "code",
   "execution_count": 4,
   "metadata": {},
   "outputs": [],
   "source": [
    "x_recon = np.empty((meas,P,9,N))\n",
    "for i,T in enumerate(Ts):\n",
    "    x_recon[i] = load_data(N,difftemp,P,T,nSteps,dt)\n",
    "x_true = np.empty((meas,200000,N))\n",
    "for i,T in enumerate(Ts):\n",
    "    x_true[i] = load_original_data(L,T,200000)"
   ]
  },
  {
   "cell_type": "code",
   "execution_count": 19,
   "metadata": {},
   "outputs": [
    {
     "data": {
      "text/plain": [
       "<matplotlib.legend.Legend at 0x7f5f6696e990>"
      ]
     },
     "execution_count": 19,
     "metadata": {},
     "output_type": "execute_result"
    },
    {
     "data": {
      "image/png": "[encoded data removed]",
      "text/plain": [
       "<Figure size 640x480 with 1 Axes>"
      ]
     },
     "metadata": {},
     "output_type": "display_data"
    }
   ],
   "source": [
    "idx= 9\n",
    "plt.title(f\"T = {Ts[idx]:.3f}\")\n",
    "plt.hist(np.mean(np.sign(x_recon[idx,:,-1,:]),axis = 1),range=(-1.15,1.15),bins = 21,alpha = 1/3,density = True, label = \"generated\")\n",
    "#plt.hist(np.mean(x_recon[idx,:,-1,:],axis = 1),range=(-1.15,1.15),bins = 21,alpha = 1/3,density = True, label = \"generated no sign\")\n",
    "plt.hist(np.mean(x_true[idx],axis = 1),range=(-1.15,1.15),bins = 21,alpha =1/3,density = True, label = \"true\")\n",
    "plt.ylabel(r\"$P(m)$\")\n",
    "plt.xlabel(r\"$m$\")\n",
    "plt.legend()"
   ]
  },
  {
   "cell_type": "code",
   "execution_count": null,
   "metadata": {},
   "outputs": [],
   "source": []
  }
 ],
 "metadata": {
  "kernelspec": {
   "display_name": "pytorch",
   "language": "python",
   "name": "python3"
  },
  "language_info": {
   "codemirror_mode": {
    "name": "ipython",
    "version": 3
   },
   "file_extension": ".py",
   "mimetype": "text/x-python",
   "name": "python",
   "nbconvert_exporter": "python",
   "pygments_lexer": "ipython3",
   "version": "3.12.1"
  }
 },
 "nbformat": 4,
 "nbformat_minor": 2
}
